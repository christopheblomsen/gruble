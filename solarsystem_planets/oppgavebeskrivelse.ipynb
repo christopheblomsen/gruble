{
 "cells": [
  {
   "cell_type": "markdown",
   "id": "74c1f94a",
   "metadata": {},
   "source": [
    "# Solsystemet: To eller flere planeter\n",
    "\n",
    "Denne uka skal vi se på planetene i solsystemet og sola. Så målet for denne timen er å lage en klasse som kan regne ut posisjonene til plantene og visualisere dem. Vi starter først med Jorda og Venus. Dette er modulene vi trenger:\n"
   ]
  },
  {
   "cell_type": "code",
   "execution_count": 2,
   "id": "fd329704",
   "metadata": {},
   "outputs": [],
   "source": [
    "import numpy as np\n",
    "import matplotlib.pyplot as plt"
   ]
  },
  {
   "cell_type": "markdown",
   "id": "cf32a1ed",
   "metadata": {},
   "source": [
    "I tillegg til dette så trenger vi initialverdier for både hastighetene og posisjonene til planetene. Dette får vi fra NASA med å sende dem akkurat denne mailen her:"
   ]
  },
  {
   "cell_type": "code",
   "execution_count": 6,
   "id": "be675dba",
   "metadata": {},
   "outputs": [],
   "source": [
    "\"\"\"\n",
    "!$$SOF\n",
    "COMMAND='399'\n",
    "CENTER='500@0'\n",
    "MAKE_EPHEM='YES'\n",
    "TABLE_TYPE='VECTORS'\n",
    "START_TIME='2019-11-13'\n",
    "STOP_TIME='2019-11-15'\n",
    "STEP_SIZE='1 d'\n",
    "OUT_UNITS='KM-S'\n",
    "VECT_TABLE='3'\n",
    "REF_PLANE='ECLIPTIC'\n",
    "REF_SYSTEM='J2000'\n",
    "VECT_CORR='NONE'\n",
    "VEC_LABELS='NO'\n",
    "CSV_FORMAT='NO'\n",
    "OBJ_DATA='YES'\n",
    "!$$EOF\n",
    "\"\"\";"
   ]
  },
  {
   "cell_type": "markdown",
   "id": "12687888",
   "metadata": {},
   "source": [
    "Med tittel JOB og til denne mail adressen: horizons@ssd.jpl.nasa.gov. TODO (Gjør adressen fin)\n",
    "\n",
    "Det som bestemmer hvilken planet vi får er den andre linja COMMAND='399'. Dette er kommandoen for Jorda. Hvis vi vil\n",
    "ha Venus så skriver vi tallet 299 istedenfor. Dette her er differensiallikningene vi kommer til å trenge denne gangen. "
   ]
  },
  {
   "cell_type": "markdown",
   "id": "4402ddf0",
   "metadata": {},
   "source": [
    "\\begin{align}\n",
    "    v_{i+1} &= v_i + f(t_n, r_n)\\cdot \\Delta t\\\\\n",
    "    r_{i+1} &= r_i + v_{i+1}\\cdot\\Delta t\n",
    "\\end{align}"
   ]
  },
  {
   "cell_type": "markdown",
   "id": "d254f5f5",
   "metadata": {},
   "source": [
    "For mer informasjon om disse likningene se forrige grublegruppe (particles mappa).\n",
    "Der $f(t_n, r_n)$ er en funksjon for akselerasjonen den n-te planeten vil få. TODO: Si hva de andre tingene er også.\n",
    "Og nevne at initisialverdiene kommer fra NASA."
   ]
  },
  {
   "cell_type": "markdown",
   "id": "efd3bf4c",
   "metadata": {},
   "source": [
    "Denne gangen ser vi bort ifra interaksjonene mellom planetene og påvirkningen planetene har på sola. "
   ]
  },
  {
   "cell_type": "markdown",
   "id": "6802a239",
   "metadata": {},
   "source": [
    "Konstruktør, antall planeter vi skal se, så en metode for å initialisere dataene, regne ut posisjonene. Det kan også være fint med en egen visualiserings metode. Dette kan være både for plotting og animering (kommer ann på hvor langt vi kommer)."
   ]
  },
  {
   "cell_type": "markdown",
   "id": "bcb4400f",
   "metadata": {},
   "source": [
    "Legg til png plot (fra din kode første semester)\n",
    "\n",
    "TODO: Skriv koden også, (ekstra greier; vektorisering og testfunksjoner)"
   ]
  }
 ],
 "metadata": {
  "kernelspec": {
   "display_name": "Python 3",
   "language": "python",
   "name": "python3"
  },
  "language_info": {
   "codemirror_mode": {
    "name": "ipython",
    "version": 3
   },
   "file_extension": ".py",
   "mimetype": "text/x-python",
   "name": "python",
   "nbconvert_exporter": "python",
   "pygments_lexer": "ipython3",
   "version": "3.7.10"
  }
 },
 "nbformat": 4,
 "nbformat_minor": 5
}
